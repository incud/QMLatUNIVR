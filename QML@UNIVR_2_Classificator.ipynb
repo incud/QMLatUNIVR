{
 "cells": [
  {
   "cell_type": "markdown",
   "metadata": {},
   "source": [
    "# Classificator\n",
    "\n",
    "## Problem specification\n",
    "\n",
    "Consider a training set $\\mathcal{D} = \\{ (x_i, y_i) \\mid i = 1...m \\}$ where $x_i$ and $y_i$ are respectively the features and the label of $i$-th item. \n",
    "\n",
    "After having trained your classificator on set $\\mathcal{D}$, given a feature array $x'$ guess its label $y'$. \n",
    "\n",
    "## A very famous example\n",
    "\n",
    "**[Iris Classification](https://en.wikipedia.org/wiki/Iris_flower_data_set)**\n",
    "\n",
    "From Fisher's 1936 paper *The use of multiple measurements in taxonomic problems*, one of the first example of classification.\n",
    "\n",
    "There are three species of Iris: *setosa* ($y=0$), *versicolor* ($y=1$), *virginica* ($y=2$). Ronald chooses as feature: sepal width, sepal length, petal width, petal length.\n",
    "\n",
    "Fisher's dataset has this form:\n",
    "$$ D = \\big\\{ (x_i, y_i) \\mid i = 1...150, x_i = (sw, sl, pw, pl) \\in \\mathbb{R}^4, y_i \\in \\{0, 1, 2\\} \\big\\} $$\n",
    "\n",
    "A classificator solving this problem is a function $C_{\\mathcal{D}}$ such that $C_{\\mathcal{D}}(x') = y' \\in \\{0, 1, 2\\}$ given $x' \\in \\mathbb{R}^4$.\n",
    "\n",
    "### At the end of the course...\n",
    "\n",
    "... you will be asked to modify the classifiers presented during this lesson to solve *Iris classification* problem.\n",
    "\n",
    "## Some concepts\n",
    "\n",
    "### Binary classificator\n",
    "\n",
    "Only has two possibile $y$ labels, tipically $+1$ and $-1$. \n",
    "\n",
    "### Distance function\n",
    "\n",
    "Suppose we have function $d$ defined on our feature array $x \\in \\mathbb{R}^m$. If $d : \\mathbb{R}^m \\times \\mathbb{R}^m \\to \\mathbb{R}$ has these three properties:\n",
    "1. $d(x, x) = 0$ for all feature array $x$;\n",
    "2. $d(x, y) = d(y, x)$ for all feature arrays $x, y$;\n",
    "3. $d(x, z) \\le d(x, y) + d(y, z)$ for all feature arrays $x, y, z$\n",
    "then $d$ is a *metric* or *distance function*. \n",
    "\n",
    "One trivial metrics: $d(a, b) = \\sum_{i = 1}^{m} (a_i - b_i)^2$ is called *mean square error*. \n",
    "\n",
    "### Distance based classificator\n",
    "\n",
    "We can find for our binary classificator the representatives $x_1, x_2$ for the classes $y_1 = +1, y_2 = -1$. Then our classificator can be:\n",
    "\n",
    "`classify(x) = if d(x1, x) < d(x2, x) then y1 else y2`\n",
    "\n",
    "or equivalently\n",
    "\n",
    "`classify(x) = sign(y1*d(x1,x) + y2*d(x2, x)) = sign((1)*d(x1, x) + (-1)*d(x2, x))`.\n",
    "\n",
    "How can we find the two (best) representatives $x_1, x_2$...?"
   ]
  },
  {
   "cell_type": "markdown",
   "metadata": {},
   "source": [
    "## Hands on\n",
    "\n",
    "### The key component of our distance based classifier\n",
    "\n",
    "is called *SWAP test*. It lets you calculate the inner product $\\langle x | y \\rangle$ of two quantum states $x, y$.\n",
    "* inner product = how much does two state overlaps?\n",
    "* range of inner product: $0 \\le \\langle x | y \\rangle \\le 1$\n",
    "* if $\\langle x | y \\rangle$ is high ($\\approx 1$) then we can say they're close to each other (distance is low)\n",
    "* if $\\langle x | y \\rangle$ is low ($\\approx 0$) then we can say they're far to each other (distance is high)\n",
    "\n",
    "Given two states $|a\\rangle, |b\\rangle$ (with the same number of qubits, one or more), and a single *ancilla* state initialized to $|0\\rangle$ we can implement the following circuit:\n",
    "\n",
    "![Swap test pic](swaptest.png)\n",
    "\n",
    "Measuring ancilla register give us $|0\\rangle$ with a certain probability, which must be interpreted this way:\n",
    "\n",
    "$$\n",
    "\\mathrm{Pr}[\\text{ancilla readout }0] = \\frac{1 + |\\langle p | q \\rangle|^2}{2}\n",
    "\\qquad\n",
    "\\mathrm{Pr}[\\text{ancilla readout }1] = \\frac{1 - |\\langle p | q \\rangle|^2}{2}$$"
   ]
  },
  {
   "cell_type": "markdown",
   "metadata": {},
   "source": [
    "### How to calculate inner product of two states analitically\n",
    "\n",
    "Be $|p\\rangle = |00\\rangle$ and $|q\\rangle = |0+\\rangle$.\n",
    "\n",
    "Then $\\langle 00 | 0+ \\rangle = \\begin{bmatrix} 1^* & 0^* & 0^* & 0^* \\end{bmatrix} \\begin{bmatrix} 1/\\sqrt{2} \\\\ 1/\\sqrt{2} \\\\ 0 \\\\ 0 \\end{bmatrix} = 1/\\sqrt{2} \\approx 0.707$.\n",
    "\n",
    "Finally $|\\langle 00 | 0+ \\rangle|^2 = (1/\\sqrt{2})^2 = 1/2$."
   ]
  },
  {
   "cell_type": "markdown",
   "metadata": {},
   "source": [
    "### Qiskit implementation of SWAP test\n",
    "\n",
    "We can easily define a function that append the SWAP test to any circuit. We must pass \n",
    "* the circuit we are working on ;\n",
    "* the two registers `first_reg`, `second_reg` which must have the same size;\n",
    "* the ancilla register\n",
    "* the ancilla \"readout\" classical register"
   ]
  },
  {
   "cell_type": "code",
   "execution_count": 1,
   "metadata": {},
   "outputs": [],
   "source": [
    "%matplotlib inline\n",
    "from qiskit import *\n",
    "import math\n",
    "import numpy\n",
    "\n",
    "def swap_test(circuit, first_reg, second_reg, ancilla, ancilla_readout):\n",
    "    \"\"\"\n",
    "    Apply swap test to any qubit of the given register\n",
    "    \"\"\"\n",
    "    circuit.barrier()\n",
    "    circuit.h(ancilla[0])\n",
    "    for i in range(0, len(first_reg)):\n",
    "        circuit.cswap(ancilla[0], first_reg[i], second_reg[i])\n",
    "    circuit.h(ancilla[0])\n",
    "    circuit.measure(ancilla[0], ancilla_readout[0])\n",
    "    return circuit"
   ]
  },
  {
   "cell_type": "markdown",
   "metadata": {},
   "source": [
    "### Convince yourself that this circuit works\n",
    "\n",
    "Some tests:"
   ]
  },
  {
   "cell_type": "code",
   "execution_count": 2,
   "metadata": {},
   "outputs": [
    {
     "name": "stdout",
     "output_type": "stream",
     "text": [
      "Inner product squared is  0.252\n",
      "              ░                    \n",
      "   p_0: ──────░───────X────────────\n",
      "              ░       │            \n",
      "   p_1: ──────░───────┼──X─────────\n",
      "        ┌───┐ ░       │  │         \n",
      "   q_0: ┤ H ├─░───────X──┼─────────\n",
      "        ├───┤ ░       │  │         \n",
      "   q_1: ┤ H ├─░───────┼──X─────────\n",
      "        └───┘ ░ ┌───┐ │  │ ┌───┐┌─┐\n",
      " anc_0: ──────░─┤ H ├─■──■─┤ H ├┤M├\n",
      "              ░ └───┘      └───┘└╥┘\n",
      "ancr: 1/═════════════════════════╩═\n",
      "                                 0 \n"
     ]
    }
   ],
   "source": [
    "# How many qubits for |p>, |q> register?\n",
    "n = 2\n",
    "\n",
    "p  = QuantumRegister(n, 'p')\n",
    "q  = QuantumRegister(n, 'q')\n",
    "a  = QuantumRegister(1, 'anc')\n",
    "ar = ClassicalRegister(1, 'ancr')\n",
    "circuit = QuantumCircuit(p, q, a, ar)\n",
    "\n",
    "# Initialize registers here!\n",
    "circuit.h(q[0])\n",
    "circuit.h(q[1])\n",
    "\n",
    "\n",
    "swap_test(circuit, p, q, a, ar)\n",
    "counts = execute(circuit, backend=Aer.get_backend(\"qasm_simulator\"), shots=100000).result().get_counts()\n",
    "count_0 = counts.get('0', 0)\n",
    "count_1 = counts.get('1', 0)\n",
    "probability_0 = count_0 / ( count_0 + count_1 )\n",
    "inner_product_squared = 2 * probability_0 - 1\n",
    "\n",
    "print(\"Inner product squared is {: .3f}\".format(inner_product_squared))\n",
    "print(circuit.draw())"
   ]
  },
  {
   "cell_type": "markdown",
   "metadata": {},
   "source": [
    "Some results:\n",
    "\n",
    "|  $|p\\rangle$ |  $|q\\rangle$ | $\\langle p|q\\rangle$ | $|\\langle p|q\\rangle|^2$ expected | $|\\langle p|q\\rangle|^2$ actual |\n",
    "|---------------|---------------|-----------------------:|--------------------------------------:|------------------------------------:|\n",
    "| ====== | ====== | ====== | =============== | =============== |\n",
    "| $|0\\rangle$  | $|0\\rangle$  |                  1.000 |                                 1.000 |                               1.000 |\n",
    "| $|1\\rangle$  | $|1\\rangle$  |                  1.000 |                                 1.000 |                               1.000 |\n",
    "| $|+\\rangle$  | $|+\\rangle$  |                  1.000 |                                 1.000 |                               1.000 |\n",
    "| $|0\\rangle$  | $|1\\rangle$  |                  0.000 |                                 0.000 |                              -0.006 |\n",
    "| $|0\\rangle$  | $|+\\rangle$  |                  0.707 |                                 0.500 |                               0.498 |\n",
    "| $|00\\rangle$ | $|00\\rangle$ |                  1.000 |                                 1.000 |                               1.000 |\n",
    "| $|00\\rangle$ | $|0+\\rangle$ |                  0.707 |                                 0.500 |                               0.502 |\n",
    "| $|00\\rangle$ | $|++\\rangle$ |                  0.500 |                                 0.250 |                               0.247 |"
   ]
  },
  {
   "cell_type": "markdown",
   "metadata": {},
   "source": [
    "*Note*: if $|p\\rangle, |q\\rangle$ orthogonal then we have 50/50% probability to read zero and one. However, due to hardware error we can have something like 48/52% of probability to read 0 and 1 respectively, so our inner product squared is sightly less than zero.\n",
    "\n",
    "You can consider an error of $\\pm 0.01$."
   ]
  },
  {
   "cell_type": "markdown",
   "metadata": {},
   "source": [
    "## Schuld-Fingerhuth-Petruccione Classificator\n",
    "\n",
    "### Resources\n",
    "\n",
    "Paper: [Implementing a distance-based classifier with a quantum interference circuit](https://arxiv.org/pdf/1703.10793.pdf)\n",
    "\n",
    "Schuld's post on Medium.com: [link](https://medium.com/qiskit/building-the-worlds-smallest-quantum-classifier-7da7cd845b84)\n",
    "\n",
    "Fingerhuth's Github w/ source code: [link](https://github.com/markf94/ibmq_code_epl_119_60002)\n",
    "\n",
    "### The paper, briefly\n",
    "\n",
    "Quantum circuit implementing the distance-based classifier using the two training vectors $x_0$ and $x_1$\n",
    "and the input vector $\\tilde{x}$ from Iris flower dataset. \n",
    "\n",
    "### Training set and testing set\n",
    "\n",
    "For each vector $x$ in Iris dataset we use only two features instead of four, each vector now fits in a single-qubit register. Finally it's scaled and normalized.\n",
    "\n",
    "At this point, $x$ represent a point on the unit circle. We can efficiently encode it using a single rotation $\\textrm{Ry}(\\theta)$. In particular, given $x = (a, b) \\in \\mathbb{R}^2 \\iff \\cos(\\theta) = a \\land \\sin(\\theta) = b \\iff \\tan(\\theta) = b/a$. \n",
    "\n",
    "*Note*: function `atan2(b,a)` handles also special cases like $a = 0$.\n",
    "\n",
    "The training dataset is:\n",
    "* $x_0 = (0, 1), y_0 = -1$ (Iris sample 33 from Roberts), and \n",
    "* $x_1 = (0.7886, 0.6148), y_1 = 1$ (Iris sample 85). \n",
    "\n",
    "Testing set is:\n",
    "* $x' = (-0.549, 0.836)$\n",
    "* $x'' = (0.053, 0.999)$.\n",
    "\n",
    "For these vectors, the associated angles are: \n",
    "\n",
    "| vector   |         a |        b |              theta = 2 * atan2(b,a) |\n",
    "|----------|----------:|---------:|------------------------------------:|\n",
    "| $x_0 $   | $ 0.0000$ | $1.0000$ | $                              \\pi$ |\n",
    "| $x_1 $   | $ 0.7886$ | $0.6148$ | $                       1.32436684$ |\n",
    "| $x'  $   | $-0.5489$ | $0.8358$ | $-1.97940061$ <br/>($+2\\pi = 4.3036448$) |\n",
    "| $x'' $   | $ 0.0531$ | $0.9986$ | $                       3.03534383$ |\n",
    "\n",
    "You must pass $\\textrm{Ry}$ angles multiplied by two (see matrix definition of $\\mathrm{Ry}$ operator)."
   ]
  },
  {
   "cell_type": "code",
   "execution_count": 3,
   "metadata": {},
   "outputs": [
    {
     "data": {
      "text/plain": [
       "array([3.14159265, 1.32436684, 4.3037847 , 3.03534383])"
      ]
     },
     "execution_count": 3,
     "metadata": {},
     "output_type": "execute_result"
    }
   ],
   "source": [
    "names = [\"x0\",   \"x1\",    \"x'\",  \"x''\"]\n",
    "a     = [   0, 0.7886, -0.5489, 0.0531]\n",
    "b     = [   1, 0.6148,  0.8358, 0.9986]\n",
    "thetas = 2 * numpy.arctan2(b, a)\n",
    "thetas"
   ]
  },
  {
   "cell_type": "markdown",
   "metadata": {},
   "source": [
    "You can check that the angle $\\theta$ associated to $x$ perform this transofrmation:\n",
    "\n",
    "$$ |0\\rangle \\mapsto \\mathrm{Ry}(\\theta)|0\\rangle = |x\\rangle$$"
   ]
  },
  {
   "cell_type": "code",
   "execution_count": 4,
   "metadata": {},
   "outputs": [
    {
     "name": "stdout",
     "output_type": "stream",
     "text": [
      "Training set x0  correctness:  True\n",
      "Training set x1  correctness:  True\n",
      "Testing  set x'  correctness:  True\n",
      "Testing  set x'' correctness:  True\n"
     ]
    }
   ],
   "source": [
    "def is_angle_correct(vector, angle):\n",
    "    circuit = QuantumCircuit(1, 1)\n",
    "    circuit.ry(angle, 0)\n",
    "    statevector = execute(circuit, backend=Aer.get_backend('statevector_simulator')).result().get_statevector()\n",
    "    return numpy.allclose(vector, statevector, atol=0.001)\n",
    "\n",
    "# training set x0 angle. Note that Ry(pi) = X operator\n",
    "print(\"Training set x0  correctness: \", is_angle_correct([0, 1], math.pi))\n",
    "    \n",
    "# training set x1 angle\n",
    "print(\"Training set x1  correctness: \", is_angle_correct([0.78861006, 0.614893628], 1.3245))\n",
    "\n",
    "# training set x' angle. Note that Ry(pi) = X operator\n",
    "print(\"Testing  set x'  correctness: \", is_angle_correct([-0.5488819155, 0.8358999], 4.30417579487669))\n",
    "\n",
    "# training set x'' angle\n",
    "print(\"Testing  set x'' correctness: \", is_angle_correct([0.05308495, 0.99859], 3.0357101997648965))"
   ]
  },
  {
   "cell_type": "markdown",
   "metadata": {},
   "source": [
    "### The formula\n",
    "\n",
    "The dataset is:\n",
    "\n",
    "$$ \\mathcal{D} = \\{ (x_0, y_0); (x_1, y_1) \\} \\qquad y_0 = -1 \\qquad y_1 = 1$$\n",
    "\n",
    "Then the predected label is:\n",
    "$$ \\tilde{y} \n",
    "= \\textrm{sign} \\Big( \\sum_{m \\in \\{0, 1\\}} y_m \\cdot \\Big[ 1 - \\frac{1}{4 \\cdot |\\mathcal{D}|} \\langle \\tilde{x} | x_m \\rangle^2 \\Big] \\Big)$$\n",
    "\n",
    "### The circuit"
   ]
  },
  {
   "cell_type": "code",
   "execution_count": 5,
   "metadata": {},
   "outputs": [],
   "source": [
    "from qiskit.circuit.library.standard_gates import *\n",
    "\n",
    "x_1     = [ 0.0000, 1.0000]\n",
    "x_0     = [ 0.7886, 0.6148]\n",
    "x_tilde = [ 0.0531, 0.9986]\n",
    "\n",
    "theta_0 = 2 * numpy.arctan2(x_0[1], x_0[0])\n",
    "theta_1 = 2 * numpy.arctan2(x_1[1], x_1[0])\n",
    "theta_tilde = 2 * numpy.arctan2(x_tilde[1], x_tilde[0])\n",
    "\n",
    "ancilla_reg = QuantumRegister(1, 'ancilla')\n",
    "index_reg   = QuantumRegister(1, 'index')\n",
    "data_reg    = QuantumRegister(1, 'data')\n",
    "class_reg   = QuantumRegister(1, 'class')\n",
    "readout_reg = ClassicalRegister(4, 'readout')\n",
    "\n",
    "circuit = QuantumCircuit(ancilla_reg, index_reg, data_reg, class_reg, readout_reg)"
   ]
  },
  {
   "cell_type": "code",
   "execution_count": 6,
   "metadata": {},
   "outputs": [
    {
     "data": {
      "text/html": [
       "<pre style=\"word-wrap: normal;white-space: pre;background: #fff0;line-height: 1.1;font-family: &quot;Courier New&quot;,Courier,monospace\">           ┌───┐ ░               \n",
       "ancilla_0: ┤ H ├─░───────■───────\n",
       "           ├───┤ ░       │       \n",
       "  index_0: ┤ H ├─░───────┼───────\n",
       "           └───┘ ░ ┌─────┴──────┐\n",
       "   data_0: ──────░─┤ RY(3.0353) ├\n",
       "                 ░ └────────────┘\n",
       "  class_0: ──────░───────────────\n",
       "                 ░               \n",
       "readout: 4/══════════════════════\n",
       "                                 </pre>"
      ],
      "text/plain": [
       "           ┌───┐ ░               \n",
       "ancilla_0: ┤ H ├─░───────■───────\n",
       "           ├───┤ ░       │       \n",
       "  index_0: ┤ H ├─░───────┼───────\n",
       "           └───┘ ░ ┌─────┴──────┐\n",
       "   data_0: ──────░─┤ RY(3.0353) ├\n",
       "                 ░ └────────────┘\n",
       "  class_0: ──────░───────────────\n",
       "                 ░               \n",
       "readout: 4/══════════════════════\n",
       "                                 "
      ]
     },
     "execution_count": 6,
     "metadata": {},
     "output_type": "execute_result"
    }
   ],
   "source": [
    "# STEP A: The ancilla and index qubits are put into uniform superposition.\n",
    "circuit.h(ancilla_reg[0])\n",
    "circuit.h(index_reg[0])\n",
    "\n",
    "# STEP B: The test vector $x_tilde$ is entangled with the ground state of the ancilla.\n",
    "circuit.barrier()\n",
    "circuit.cry(theta_tilde, ancilla_reg[0], data_reg[0]) # (!) x' initialization; x' is entangle with ANCILLA=0\n",
    "circuit.draw()"
   ]
  },
  {
   "cell_type": "code",
   "execution_count": 7,
   "metadata": {},
   "outputs": [
    {
     "data": {
      "text/html": [
       "<pre style=\"word-wrap: normal;white-space: pre;background: #fff0;line-height: 1.1;font-family: &quot;Courier New&quot;,Courier,monospace\">           ┌───┐ ░                ░ ┌───┐               ░                \n",
       "ancilla_0: ┤ H ├─░───────■────────░─┤ X ├──────■────────░──────────■─────\n",
       "           ├───┤ ░       │        ░ └───┘      │        ░ ┌───┐    │     \n",
       "  index_0: ┤ H ├─░───────┼────────░────────────■────────░─┤ X ├────■─────\n",
       "           └───┘ ░ ┌─────┴──────┐ ░      ┌─────┴──────┐ ░ └───┘┌───┴────┐\n",
       "   data_0: ──────░─┤ RY(3.0353) ├─░──────┤ RY(1.3244) ├─░──────┤ RY(pi) ├\n",
       "                 ░ └────────────┘ ░      └────────────┘ ░      └────────┘\n",
       "  class_0: ──────░────────────────░─────────────────────░────────────────\n",
       "                 ░                ░                     ░                \n",
       "readout: 4/══════════════════════════════════════════════════════════════\n",
       "                                                                         </pre>"
      ],
      "text/plain": [
       "           ┌───┐ ░                ░ ┌───┐               ░                \n",
       "ancilla_0: ┤ H ├─░───────■────────░─┤ X ├──────■────────░──────────■─────\n",
       "           ├───┤ ░       │        ░ └───┘      │        ░ ┌───┐    │     \n",
       "  index_0: ┤ H ├─░───────┼────────░────────────■────────░─┤ X ├────■─────\n",
       "           └───┘ ░ ┌─────┴──────┐ ░      ┌─────┴──────┐ ░ └───┘┌───┴────┐\n",
       "   data_0: ──────░─┤ RY(3.0353) ├─░──────┤ RY(1.3244) ├─░──────┤ RY(pi) ├\n",
       "                 ░ └────────────┘ ░      └────────────┘ ░      └────────┘\n",
       "  class_0: ──────░────────────────░─────────────────────░────────────────\n",
       "                 ░                ░                     ░                \n",
       "readout: 4/══════════════════════════════════════════════════════════════\n",
       "                                                                         "
      ]
     },
     "execution_count": 7,
     "metadata": {},
     "output_type": "execute_result"
    }
   ],
   "source": [
    "# STEP C: The training vector $x_0$ is entangled with the excited state \n",
    "# of the ancilla and the ground state of the index qubit.\n",
    "circuit.barrier()\n",
    "circuit.x(ancilla_reg[0]) \n",
    "CCRY_X0 = RYGate(theta_0).control(2) # create 2*controlled version of this gate\n",
    "circuit.append(CCRY_X0, [ancilla_reg[0], index_reg[0], data_reg[0]]) # (!) x0 initialization; x0 must be entangle with ANCILLA=1, INPUT=0\n",
    "\n",
    "# STEP D: Entangle training vector $x_1$ with the excited state of the ancilla and the index qubit.\n",
    "circuit.barrier()\n",
    "circuit.x(index_reg[0])\n",
    "CCRY_X1 = RYGate(theta_1).control(2) # create 2*controlled version of this gate\n",
    "circuit.append(CCRY_X1, [ancilla_reg[0], index_reg[0], data_reg[0]]) # (!) x1 initialization; x1 must be entangle with ANCILLA=1, INPUT=1\n",
    "circuit.draw()"
   ]
  },
  {
   "cell_type": "code",
   "execution_count": 8,
   "metadata": {},
   "outputs": [
    {
     "data": {
      "text/html": [
       "<pre style=\"word-wrap: normal;white-space: pre;background: #fff0;line-height: 1.1;font-family: &quot;Courier New&quot;,Courier,monospace\">           ┌───┐ ░                ░ ┌───┐               ░                 ░    »\n",
       "ancilla_0: ┤ H ├─░───────■────────░─┤ X ├──────■────────░──────────■──────░────»\n",
       "           ├───┤ ░       │        ░ └───┘      │        ░ ┌───┐    │      ░    »\n",
       "  index_0: ┤ H ├─░───────┼────────░────────────■────────░─┤ X ├────■──────░──■─»\n",
       "           └───┘ ░ ┌─────┴──────┐ ░      ┌─────┴──────┐ ░ └───┘┌───┴────┐ ░  │ »\n",
       "   data_0: ──────░─┤ RY(3.0353) ├─░──────┤ RY(1.3244) ├─░──────┤ RY(pi) ├─░──X─»\n",
       "                 ░ └────────────┘ ░      └────────────┘ ░      └────────┘ ░  │ »\n",
       "  class_0: ──────░────────────────░─────────────────────░─────────────────░──X─»\n",
       "                 ░                ░                     ░                 ░    »\n",
       "readout: 4/════════════════════════════════════════════════════════════════════»\n",
       "                                                                               »\n",
       "«            ░ ┌───┐      ┌─┐\n",
       "«ancilla_0: ─░─┤ H ├──────┤M├\n",
       "«            ░ └┬─┬┘      └╥┘\n",
       "«  index_0: ─░──┤M├────────╫─\n",
       "«            ░  └╥┘ ┌─┐    ║ \n",
       "«   data_0: ─░───╫──┤M├────╫─\n",
       "«            ░   ║  └╥┘┌─┐ ║ \n",
       "«  class_0: ─░───╫───╫─┤M├─╫─\n",
       "«            ░   ║   ║ └╥┘ ║ \n",
       "«readout: 4/═════╩═══╩══╩══╩═\n",
       "«                1   2  3  0 </pre>"
      ],
      "text/plain": [
       "           ┌───┐ ░                ░ ┌───┐               ░                 ░    »\n",
       "ancilla_0: ┤ H ├─░───────■────────░─┤ X ├──────■────────░──────────■──────░────»\n",
       "           ├───┤ ░       │        ░ └───┘      │        ░ ┌───┐    │      ░    »\n",
       "  index_0: ┤ H ├─░───────┼────────░────────────■────────░─┤ X ├────■──────░──■─»\n",
       "           └───┘ ░ ┌─────┴──────┐ ░      ┌─────┴──────┐ ░ └───┘┌───┴────┐ ░  │ »\n",
       "   data_0: ──────░─┤ RY(3.0353) ├─░──────┤ RY(1.3244) ├─░──────┤ RY(pi) ├─░──X─»\n",
       "                 ░ └────────────┘ ░      └────────────┘ ░      └────────┘ ░  │ »\n",
       "  class_0: ──────░────────────────░─────────────────────░─────────────────░──X─»\n",
       "                 ░                ░                     ░                 ░    »\n",
       "readout: 4/════════════════════════════════════════════════════════════════════»\n",
       "                                                                               »\n",
       "«            ░ ┌───┐      ┌─┐\n",
       "«ancilla_0: ─░─┤ H ├──────┤M├\n",
       "«            ░ └┬─┬┘      └╥┘\n",
       "«  index_0: ─░──┤M├────────╫─\n",
       "«            ░  └╥┘ ┌─┐    ║ \n",
       "«   data_0: ─░───╫──┤M├────╫─\n",
       "«            ░   ║  └╥┘┌─┐ ║ \n",
       "«  class_0: ─░───╫───╫─┤M├─╫─\n",
       "«            ░   ║   ║ └╥┘ ║ \n",
       "«readout: 4/═════╩═══╩══╩══╩═\n",
       "«                1   2  3  0 "
      ]
     },
     "execution_count": 8,
     "metadata": {},
     "output_type": "execute_result"
    }
   ],
   "source": [
    "# STEP E: The data and class qubits are swapped and the class qubit is flipped conditioned\n",
    "# on the index qubit being $|1\\rangle$ which completes the initial state preparation.\n",
    "circuit.barrier()\n",
    "circuit.cswap(index_reg[0], data_reg[0], class_reg[0])\n",
    "\n",
    "# STEP F: The Hadamard gate interferes the copies of $\\tilde{x}$ with the training vectors \n",
    "# and the ancilla is measured followed by a measurement of the class qubit (due to prior \n",
    "# swapping now at the position of the |i> qubit) when the ancilla was found to \n",
    "# be in the |0> state.\n",
    "circuit.barrier()\n",
    "circuit.h(ancilla_reg[0])\n",
    "circuit.measure([ancilla_reg[0], index_reg[0], data_reg[0], class_reg[0]], readout_reg)\n",
    "circuit.draw()"
   ]
  },
  {
   "cell_type": "markdown",
   "metadata": {},
   "source": [
    "### Results interpretation"
   ]
  },
  {
   "cell_type": "code",
   "execution_count": 9,
   "metadata": {},
   "outputs": [
    {
     "name": "stdout",
     "output_type": "stream",
     "text": [
      "Probability class 0: 0.4540229885057471; probability class 1: 0.5459770114942529\n",
      "Class: Y1\n"
     ]
    }
   ],
   "source": [
    "def interpret_results(result_counts):\n",
    "        \n",
    "    # pass from dictionary notation {key: value} to list notation [ (key, value) ]\n",
    "    count_list = list(result_counts.items())\n",
    "    #print(f\"Readout: {count_list}\")\n",
    "    \n",
    "    # keep results only when ANCILLA=0, discard any ANCILLA=1\n",
    "    ANCILLA_INDEX = 3 # bit0 least significative -> last in string\n",
    "    count_list = [(state, occ) for state, occ in count_list if state[ANCILLA_INDEX] == '0']\n",
    "    #print(f\"Only ANCILLA=0: {count_list}\")\n",
    "\n",
    "    # get results for each class\n",
    "    CLASS_INDEX = 2\n",
    "    count_0 = [(state, occ) for state, occ in count_list if state[CLASS_INDEX] == '0']\n",
    "    count_1 = [(state, occ) for state, occ in count_list if state[CLASS_INDEX] == '1']\n",
    "    #print(f\"Class 0: {count_0}\")\n",
    "    #print(f\"Class 1: {count_1}\")\n",
    "    \n",
    "    total  = sum([occ for _, occ in count_list])\n",
    "    prob_0 = sum([occ for _, occ in count_0]) / total\n",
    "    prob_1 = sum([occ for _, occ in count_1]) / total\n",
    "    \n",
    "    return (prob_0, prob_1)\n",
    "\n",
    "def get_class(prob_0, prob_1):\n",
    "    if numpy.abs(prob_0 - prob_1) < 0.01:\n",
    "        return \"50/50\"\n",
    "    elif prob_0 > prob_1:\n",
    "        return \"Y0\"\n",
    "    else:\n",
    "        return \"Y1\"    \n",
    "    \n",
    "result_counts = execute(circuit, Aer.get_backend('qasm_simulator'), shots=16384).result().get_counts()\n",
    "(prob_0, prob_1) = interpret_results(result_counts)\n",
    "print(f\"Probability class 0: {prob_0}; probability class 1: {prob_1}\")\n",
    "print(f\"Class: {get_class(prob_0, prob_1)}\")"
   ]
  },
  {
   "cell_type": "markdown",
   "metadata": {},
   "source": [
    "### When running on a real quantum device..."
   ]
  },
  {
   "cell_type": "code",
   "execution_count": 10,
   "metadata": {},
   "outputs": [
    {
     "data": {
      "text/html": [
       "<pre style=\"word-wrap: normal;white-space: pre;background: #fff0;line-height: 1.1;font-family: &quot;Courier New&quot;,Courier,monospace\">           ┌───┐ ░                ░ ┌───┐               ░                 ░    »\n",
       "ancilla_0: ┤ H ├─░───────■────────░─┤ X ├──────■────────░──────────■──────░────»\n",
       "           ├───┤ ░       │        ░ └───┘      │        ░ ┌───┐    │      ░    »\n",
       "  index_0: ┤ H ├─░───────┼────────░────────────■────────░─┤ X ├────■──────░──■─»\n",
       "           └───┘ ░ ┌─────┴──────┐ ░      ┌─────┴──────┐ ░ └───┘┌───┴────┐ ░  │ »\n",
       "   data_0: ──────░─┤ RY(3.0353) ├─░──────┤ RY(1.3244) ├─░──────┤ RY(pi) ├─░──X─»\n",
       "                 ░ └────────────┘ ░      └────────────┘ ░      └────────┘ ░  │ »\n",
       "  class_0: ──────░────────────────░─────────────────────░─────────────────░──X─»\n",
       "                 ░                ░                     ░                 ░    »\n",
       "readout: 4/════════════════════════════════════════════════════════════════════»\n",
       "                                                                               »\n",
       "«            ░ ┌───┐      ┌─┐\n",
       "«ancilla_0: ─░─┤ H ├──────┤M├\n",
       "«            ░ └┬─┬┘      └╥┘\n",
       "«  index_0: ─░──┤M├────────╫─\n",
       "«            ░  └╥┘ ┌─┐    ║ \n",
       "«   data_0: ─░───╫──┤M├────╫─\n",
       "«            ░   ║  └╥┘┌─┐ ║ \n",
       "«  class_0: ─░───╫───╫─┤M├─╫─\n",
       "«            ░   ║   ║ └╥┘ ║ \n",
       "«readout: 4/═════╩═══╩══╩══╩═\n",
       "«                1   2  3  0 </pre>"
      ],
      "text/plain": [
       "           ┌───┐ ░                ░ ┌───┐               ░                 ░    »\n",
       "ancilla_0: ┤ H ├─░───────■────────░─┤ X ├──────■────────░──────────■──────░────»\n",
       "           ├───┤ ░       │        ░ └───┘      │        ░ ┌───┐    │      ░    »\n",
       "  index_0: ┤ H ├─░───────┼────────░────────────■────────░─┤ X ├────■──────░──■─»\n",
       "           └───┘ ░ ┌─────┴──────┐ ░      ┌─────┴──────┐ ░ └───┘┌───┴────┐ ░  │ »\n",
       "   data_0: ──────░─┤ RY(3.0353) ├─░──────┤ RY(1.3244) ├─░──────┤ RY(pi) ├─░──X─»\n",
       "                 ░ └────────────┘ ░      └────────────┘ ░      └────────┘ ░  │ »\n",
       "  class_0: ──────░────────────────░─────────────────────░─────────────────░──X─»\n",
       "                 ░                ░                     ░                 ░    »\n",
       "readout: 4/════════════════════════════════════════════════════════════════════»\n",
       "                                                                               »\n",
       "«            ░ ┌───┐      ┌─┐\n",
       "«ancilla_0: ─░─┤ H ├──────┤M├\n",
       "«            ░ └┬─┬┘      └╥┘\n",
       "«  index_0: ─░──┤M├────────╫─\n",
       "«            ░  └╥┘ ┌─┐    ║ \n",
       "«   data_0: ─░───╫──┤M├────╫─\n",
       "«            ░   ║  └╥┘┌─┐ ║ \n",
       "«  class_0: ─░───╫───╫─┤M├─╫─\n",
       "«            ░   ║   ║ └╥┘ ║ \n",
       "«readout: 4/═════╩═══╩══╩══╩═\n",
       "«                1   2  3  0 "
      ]
     },
     "execution_count": 10,
     "metadata": {},
     "output_type": "execute_result"
    }
   ],
   "source": [
    "circuit.draw()"
   ]
  },
  {
   "cell_type": "code",
   "execution_count": 12,
   "metadata": {},
   "outputs": [
    {
     "name": "stderr",
     "output_type": "stream",
     "text": [
      "/home/incud/anaconda3/lib/python3.7/site-packages/qiskit/providers/ibmq/ibmqfactory.py:192: UserWarning: Timestamps in IBMQ backend properties, jobs, and job results are all now in local time instead of UTC.\n",
      "  warnings.warn('Timestamps in IBMQ backend properties, jobs, and job results '\n"
     ]
    },
    {
     "data": {
      "image/png": "[encoded data removed]",
      "text/plain": [
       "<Figure size 1761.73x1649.48 with 1 Axes>"
      ]
     },
     "execution_count": 12,
     "metadata": {},
     "output_type": "execute_result"
    }
   ],
   "source": [
    "IBMQ.load_account()\n",
    "provider = IBMQ.get_provider('ibm-q')\n",
    "backend = provider.get_backend('ibmq_5_yorktown')\n",
    "new_circuit = transpile(circuit, backend)\n",
    "new_circuit.draw(output='mpl')"
   ]
  },
  {
   "cell_type": "markdown",
   "metadata": {},
   "source": [
    "# Variational classifiers\n",
    "\n"
   ]
  },
  {
   "cell_type": "code",
   "execution_count": 13,
   "metadata": {},
   "outputs": [],
   "source": [
    "import pennylane as qml\n",
    "from pennylane import numpy as np # important!"
   ]
  },
  {
   "cell_type": "markdown",
   "metadata": {},
   "source": [
    "## Creating the first circuit on Pennylane\n",
    "\n",
    "First we create a quantum device.\n",
    "\n",
    "*Pennylane* has in-build simulators and also lets you run the circuit on some real architectures (Qiskit, Google Cirq, ...)."
   ]
  },
  {
   "cell_type": "code",
   "execution_count": 14,
   "metadata": {},
   "outputs": [],
   "source": [
    "dev = qml.device('default.qubit', wires=1) # default simulator, 1 qubit"
   ]
  },
  {
   "cell_type": "markdown",
   "metadata": {},
   "source": [
    "Through decorator `@qml.qnode(dev)` we specify which platform will Pennylane use to run the circuit. It is equivalent to Qiskit's `execute(circuit, backend=dev)`."
   ]
  },
  {
   "cell_type": "code",
   "execution_count": 15,
   "metadata": {},
   "outputs": [],
   "source": [
    "@qml.qnode(dev)\n",
    "def circuit(params):\n",
    "    qml.RX(params[0], wires=0)\n",
    "    qml.RY(params[1], wires=0)\n",
    "    # qubit 0 measurement on |0>, |1> basis\n",
    "    return qml.expval(qml.PauliZ(0)) "
   ]
  },
  {
   "cell_type": "markdown",
   "metadata": {},
   "source": [
    "This circuit implements the following transformation:\n",
    "\n",
    "$$ |0\\rangle \\mapsto |\\psi\\rangle = R_y(\\theta_2) R_x(\\theta_1) |0\\rangle $$\n",
    "\n",
    "The expected outcome is:\n",
    "\n",
    "$$ \\langle \\psi | \\sigma_z | \\phi \\rangle\n",
    "= \\langle 0 | R_x(\\theta_1)^\\dagger R_y(\\theta_2)^\\dagger \\sigma_z R_y(\\theta_2) R_x(\\theta_1) | 0 \\rangle\n",
    "= \\cos(\\theta_1) \\cos(\\theta_2)\n",
    "$$"
   ]
  },
  {
   "cell_type": "code",
   "execution_count": 16,
   "metadata": {},
   "outputs": [
    {
     "name": "stdout",
     "output_type": "stream",
     "text": [
      "0.8775825618903726 equals 0.8775825618903728\n",
      "1.0 equals 1.0\n"
     ]
    }
   ],
   "source": [
    "params = [0, 0.5]\n",
    "print(f\"{circuit(params)} equals {np.cos(params[0]) * np.cos(params[1])}\")\n",
    "\n",
    "params = [0, 0]\n",
    "print(f\"{circuit(params)} equals {np.cos(params[0]) * np.cos(params[1])}\")"
   ]
  },
  {
   "cell_type": "markdown",
   "metadata": {},
   "source": [
    "## Optimize the cost function\n",
    "\n",
    "We define a cost function using our circuit."
   ]
  },
  {
   "cell_type": "code",
   "execution_count": 17,
   "metadata": {},
   "outputs": [],
   "source": [
    "def cost(x):\n",
    "    return circuit(x)"
   ]
  },
  {
   "cell_type": "code",
   "execution_count": 20,
   "metadata": {},
   "outputs": [],
   "source": [
    "opt = qml.GradientDescentOptimizer(stepsize=0.05)\n",
    "\n",
    "steps = 30\n",
    "\n",
    "params = [0.5, 0.5] # random initial parameters"
   ]
  },
  {
   "cell_type": "code",
   "execution_count": 21,
   "metadata": {},
   "outputs": [
    {
     "name": "stdout",
     "output_type": "stream",
     "text": [
      "Cost after step  0:  0.75222\n",
      "Cost after step  1:  0.73335\n",
      "Cost after step  2:  0.71357\n",
      "Cost after step  3:  0.69292\n",
      "Cost after step  4:  0.67145\n",
      "Cost after step  5:  0.64920\n",
      "Cost after step  6:  0.62627\n",
      "Cost after step  7:  0.60272\n",
      "Cost after step  8:  0.57867\n",
      "Cost after step  9:  0.55420\n",
      "Cost after step 10:  0.52944\n",
      "Cost after step 11:  0.50450\n",
      "Cost after step 12:  0.47950\n",
      "Cost after step 13:  0.45458\n",
      "Cost after step 14:  0.42985\n",
      "Cost after step 15:  0.40544\n",
      "Cost after step 16:  0.38146\n",
      "Cost after step 17:  0.35801\n",
      "Cost after step 18:  0.33520\n",
      "Cost after step 19:  0.31311\n",
      "Cost after step 20:  0.29181\n",
      "Cost after step 21:  0.27137\n",
      "Cost after step 22:  0.25183\n",
      "Cost after step 23:  0.23323\n",
      "Cost after step 24:  0.21559\n",
      "Cost after step 25:  0.19892\n",
      "Cost after step 26:  0.18323\n",
      "Cost after step 27:  0.16850\n",
      "Cost after step 28:  0.15473\n",
      "Cost after step 29:  0.14188\n",
      "Optimized rotation angles: params[0]=1.1846 params[1]=1.1846\n"
     ]
    }
   ],
   "source": [
    "for i in range(steps):\n",
    "    # update params\n",
    "    params = opt.step(cost, params)\n",
    "    # print updates\n",
    "    print(\"Cost after step {:2d}: {: .5f}\".format(i, cost(params)))\n",
    "    \n",
    "print(\"Optimized rotation angles: params[0]={:.4f} params[1]={:.4f}\".format(params[0], params[1]))"
   ]
  },
  {
   "cell_type": "markdown",
   "metadata": {},
   "source": [
    "# Exercises\n",
    "\n",
    "Try to modify one of the classifier presented during the lesson in order to solve *Iris classification*.\n",
    "\n",
    "* (+) test accuracy of classifier;\n",
    "* (+) 2 features $\\to$ 4 features;\n",
    "* (++) implement IRIS in variational model ([*hint*](https://pennylane.ai/qml/demos/tutorial_variational_classifier.html#iris-classification));\n",
    "* (+++) binary classification $\\to$ n-ary classification.\n",
    "\n",
    "The dataset can be found in `scikit-learn` library."
   ]
  },
  {
   "cell_type": "code",
   "execution_count": 22,
   "metadata": {},
   "outputs": [
    {
     "name": "stdout",
     "output_type": "stream",
     "text": [
      "Requirement already satisfied: scikit-learn in /home/incud/anaconda3/lib/python3.7/site-packages (0.21.3)\r\n",
      "Requirement already satisfied: scipy>=0.17.0 in /home/incud/.local/lib/python3.7/site-packages (from scikit-learn) (1.4.1)\r\n",
      "Requirement already satisfied: numpy>=1.11.0 in /home/incud/anaconda3/lib/python3.7/site-packages (from scikit-learn) (1.17.2)\r\n",
      "Requirement already satisfied: joblib>=0.11 in /home/incud/anaconda3/lib/python3.7/site-packages (from scikit-learn) (0.13.2)\r\n"
     ]
    }
   ],
   "source": [
    "!pip install scikit-learn"
   ]
  },
  {
   "cell_type": "code",
   "execution_count": 23,
   "metadata": {},
   "outputs": [
    {
     "name": "stdout",
     "output_type": "stream",
     "text": [
      ".. _iris_dataset:\n",
      "\n",
      "Iris plants dataset\n",
      "--------------------\n",
      "\n",
      "**Data Set Characteristics:**\n",
      "\n",
      "    :Number of Instances: 150 (50 in each of three classes)\n",
      "    :Number of Attributes: 4 numeric, predictive attributes and the class\n",
      "    :Attribute Information:\n",
      "        - sepal length in cm\n",
      "        - sepal width in cm\n",
      "        - petal length in cm\n",
      "        - petal width in cm\n",
      "        - class:\n",
      "                - Iris-Setosa\n",
      "                - Iris-Versicolour\n",
      "                - Iris-Virginica\n",
      "                \n",
      "    :Summary Statistics:\n",
      "\n",
      "    ============== ==== ==== ======= ===== ====================\n",
      "                    Min  Max   Mean    SD   Class Correlation\n",
      "    ============== ==== ==== ======= ===== ====================\n",
      "    sepal length:   4.3  7.9   5.84   0.83    0.7826\n",
      "    sepal width:    2.0  4.4   3.05   0.43   -0.4194\n",
      "    petal length:   1.0  6.9   3.76   1.76    0.9490  (high!)\n",
      "    petal width:    0.1  2.5   1.20   0.76    0.9565  (high!)\n",
      "    ============== ==== ==== ======= ===== ====================\n",
      "\n",
      "    :Missing Attribute Values: None\n",
      "    :Class Distribution: 33.3% for each of 3 classes.\n",
      "    :Creator: R.A. Fisher\n",
      "    :Donor: Michael Marshall (MARSHALL%PLU@io.arc.nasa.gov)\n",
      "    :Date: July, 1988\n",
      "\n",
      "The famous Iris database, first used by Sir R.A. Fisher. The dataset is taken\n",
      "from Fisher's paper. Note that it's the same as in R, but not as in the UCI\n",
      "Machine Learning Repository, which has two wrong data points.\n",
      "\n",
      "This is perhaps the best known database to be found in the\n",
      "pattern recognition literature.  Fisher's paper is a classic in the field and\n",
      "is referenced frequently to this day.  (See Duda & Hart, for example.)  The\n",
      "data set contains 3 classes of 50 instances each, where each class refers to a\n",
      "type of iris plant.  One class is linearly separable from the other 2; the\n",
      "latter are NOT linearly separable from each other.\n",
      "\n",
      ".. topic:: References\n",
      "\n",
      "   - Fisher, R.A. \"The use of multiple measurements in taxonomic problems\"\n",
      "     Annual Eugenics, 7, Part II, 179-188 (1936); also in \"Contributions to\n",
      "     Mathematical Statistics\" (John Wiley, NY, 1950).\n",
      "   - Duda, R.O., & Hart, P.E. (1973) Pattern Classification and Scene Analysis.\n",
      "     (Q327.D83) John Wiley & Sons.  ISBN 0-471-22361-1.  See page 218.\n",
      "   - Dasarathy, B.V. (1980) \"Nosing Around the Neighborhood: A New System\n",
      "     Structure and Classification Rule for Recognition in Partially Exposed\n",
      "     Environments\".  IEEE Transactions on Pattern Analysis and Machine\n",
      "     Intelligence, Vol. PAMI-2, No. 1, 67-71.\n",
      "   - Gates, G.W. (1972) \"The Reduced Nearest Neighbor Rule\".  IEEE Transactions\n",
      "     on Information Theory, May 1972, 431-433.\n",
      "   - See also: 1988 MLC Proceedings, 54-64.  Cheeseman et al\"s AUTOCLASS II\n",
      "     conceptual clustering system finds 3 classes in the data.\n",
      "   - Many, many more ...\n"
     ]
    }
   ],
   "source": [
    "from sklearn import datasets\n",
    "iris = datasets.load_iris()\n",
    "print(iris.DESCR)"
   ]
  },
  {
   "cell_type": "code",
   "execution_count": 24,
   "metadata": {},
   "outputs": [
    {
     "name": "stdout",
     "output_type": "stream",
     "text": [
      "[[5.1 3.5 1.4 0.2]\n",
      " [4.9 3.  1.4 0.2]\n",
      " [4.7 3.2 1.3 0.2]\n",
      " [4.6 3.1 1.5 0.2]\n",
      " [5.  3.6 1.4 0.2]\n",
      " [5.4 3.9 1.7 0.4]\n",
      " [4.6 3.4 1.4 0.3]\n",
      " [5.  3.4 1.5 0.2]\n",
      " [4.4 2.9 1.4 0.2]\n",
      " [4.9 3.1 1.5 0.1]]\n"
     ]
    }
   ],
   "source": [
    "print(iris.data[0:10])"
   ]
  },
  {
   "cell_type": "code",
   "execution_count": 25,
   "metadata": {},
   "outputs": [
    {
     "name": "stdout",
     "output_type": "stream",
     "text": [
      "[0 0 0 0 0 0 0 0 0 0 0 0 0 0 0 0 0 0 0 0 0 0 0 0 0 0 0 0 0 0 0 0 0 0 0 0 0\n",
      " 0 0 0 0 0 0 0 0 0 0 0 0 0 1 1 1 1 1 1 1 1 1 1 1 1 1 1 1 1 1 1 1 1 1 1 1 1\n",
      " 1 1 1 1 1 1 1 1 1 1 1 1 1 1 1 1 1 1 1 1 1 1 1 1 1 1 2 2 2 2 2 2 2 2 2 2 2\n",
      " 2 2 2 2 2 2 2 2 2 2 2 2 2 2 2 2 2 2 2 2 2 2 2 2 2 2 2 2 2 2 2 2 2 2 2 2 2\n",
      " 2 2]\n"
     ]
    }
   ],
   "source": [
    "print(iris.target)"
   ]
  },
  {
   "cell_type": "code",
   "execution_count": 26,
   "metadata": {},
   "outputs": [
    {
     "name": "stdout",
     "output_type": "stream",
     "text": [
      "['setosa' 'versicolor' 'virginica']\n"
     ]
    }
   ],
   "source": [
    "print(iris.target_names)"
   ]
  },
  {
   "cell_type": "code",
   "execution_count": null,
   "metadata": {},
   "outputs": [],
   "source": []
  }
 ],
 "metadata": {
  "kernelspec": {
   "display_name": "Python 3",
   "language": "python",
   "name": "python3"
  },
  "language_info": {
   "codemirror_mode": {
    "name": "ipython",
    "version": 3
   },
   "file_extension": ".py",
   "mimetype": "text/x-python",
   "name": "python",
   "nbconvert_exporter": "python",
   "pygments_lexer": "ipython3",
   "version": "3.7.4"
  }
 },
 "nbformat": 4,
 "nbformat_minor": 2
}
